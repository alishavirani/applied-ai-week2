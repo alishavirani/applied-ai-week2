{
 "metadata": {
  "language_info": {
   "codemirror_mode": {
    "name": "ipython",
    "version": 3
   },
   "file_extension": ".py",
   "mimetype": "text/x-python",
   "name": "python",
   "nbconvert_exporter": "python",
   "pygments_lexer": "ipython3",
   "version": 3
  },
  "orig_nbformat": 2
 },
 "nbformat": 4,
 "nbformat_minor": 2,
 "cells": [
  {
   "cell_type": "code",
   "execution_count": null,
   "metadata": {},
   "outputs": [],
   "source": [
    "Explain your findings/conclusions/data analysis results in plain english\n",
    "Never forget your objective (the problem you are solving) . Perform all of your EDA aligned with your objectives."
   ]
  },
  {
   "cell_type": "code",
   "execution_count": null,
   "metadata": {},
   "outputs": [],
   "source": [
    "#Univariate Analysis: taking one variable/feature and analysing it\n",
    "#Plots: PDF, CDF, Box-Plot, Violin Plot"
   ]
  },
  {
   "cell_type": "code",
   "execution_count": null,
   "metadata": {},
   "outputs": [],
   "source": [
    "#Bivariate Analysis: taking two variables/features and analysing it\n",
    "#Plots: Pair Plot, Scatter Plot"
   ]
  },
  {
   "cell_type": "code",
   "execution_count": null,
   "metadata": {},
   "outputs": [],
   "source": [
    "#Multivariate Analysis: taking more than two variables/features and analysing it\n",
    "#Plots:3D Scatter Plot\n",
    "#ML is glorified data analysis"
   ]
  }
 ]
}