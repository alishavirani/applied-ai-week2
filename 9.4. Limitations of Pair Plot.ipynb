{
 "metadata": {
  "language_info": {
   "codemirror_mode": {
    "name": "ipython",
    "version": 3
   },
   "file_extension": ".py",
   "mimetype": "text/x-python",
   "name": "python",
   "nbconvert_exporter": "python",
   "pygments_lexer": "ipython3",
   "version": 3
  },
  "orig_nbformat": 2
 },
 "nbformat": 4,
 "nbformat_minor": 2,
 "cells": [
  {
   "cell_type": "code",
   "execution_count": null,
   "metadata": {},
   "outputs": [],
   "source": [
    "#Our data was 4D (4 features) ie 4C2 plots = 6 pairs\n",
    "#For 10D (10 features) 10c2 plots = too many plots\n",
    "#pair plots do good job when no of features are less than or equal to 4,5,6\n",
    "# for n = 100, we can use PCA, Dimensionality reduction, t-SNE etc,"
   ]
  }
 ]
}