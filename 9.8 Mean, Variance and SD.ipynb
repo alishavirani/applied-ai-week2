{
 "metadata": {
  "language_info": {
   "codemirror_mode": {
    "name": "ipython",
    "version": 3
   },
   "file_extension": ".py",
   "mimetype": "text/x-python",
   "name": "python",
   "nbconvert_exporter": "python",
   "pygments_lexer": "ipython3",
   "version": "3.8.5-final"
  },
  "orig_nbformat": 2,
  "kernelspec": {
   "name": "python3",
   "display_name": "Python 3",
   "language": "python"
  }
 },
 "nbformat": 4,
 "nbformat_minor": 2,
 "cells": [
  {
   "cell_type": "code",
   "execution_count": 1,
   "metadata": {},
   "outputs": [],
   "source": [
    "import pandas as pd\r\n",
    "import seaborn as sns\r\n",
    "import matplotlib.pyplot as plt\r\n",
    "import numpy as np\r\n",
    "\r\n",
    "iris = pd.read_csv(\"Iris.csv\")"
   ]
  },
  {
   "cell_type": "code",
   "execution_count": 2,
   "metadata": {},
   "outputs": [],
   "source": [
    "df = iris[['SepalLengthCm', 'SepalWidthCm', 'PetalLengthCm', 'PetalWidthCm','Species']]"
   ]
  },
  {
   "cell_type": "code",
   "execution_count": 3,
   "metadata": {},
   "outputs": [],
   "source": [
    "iris_setosa = iris.loc[iris[\"Species\"] == \"Iris-setosa\"] #taking all points corresponding to setosa\n",
    "iris_virginica = iris.loc[iris[\"Species\"] == \"Iris-virginica\"] #taking all points corresponding to virginica\n",
    "iris_versicolor = iris.loc[iris[\"Species\"] == \"Iris-versicolor\"] #taking all points corresponding to versicolor"
   ]
  },
  {
   "cell_type": "code",
   "execution_count": 6,
   "metadata": {},
   "outputs": [
    {
     "output_type": "stream",
     "name": "stdout",
     "text": [
      "Means:\n1.464\n5.552\n4.26\n2.4156862745098038\n\nStd-dev:\n0.17176728442867115\n0.5463478745268441\n0.4651881339845204\n"
     ]
    }
   ],
   "source": [
    "#Mean, Variance, Std-deviation,\n",
    "#Refer written notes\n",
    "print(\"Means:\")\n",
    "\n",
    "\n",
    "print(np.mean(iris_setosa[\"PetalLengthCm\"]))\n",
    "print(np.mean(iris_virginica[\"PetalLengthCm\"]))\n",
    "print(np.mean(iris_versicolor[\"PetalLengthCm\"]))\n",
    "\n",
    "#By looking at the 3 means, setosa has small PL as compared to the rest and virginica and versicolor means are closer to each other\n",
    "\n",
    "#we know that PL of setosa lies b/w 1-2\n",
    "#say if by mistake, someone enters a value of 50 as the PL, this is called an Outlier (not normal)\n",
    "\n",
    "#Mean with an outlier.\n",
    "print(np.mean(np.append(iris_setosa[\"PetalLengthCm\"],50))); #append 50 to setosa, mean changed bcoz of outlier\n",
    "\n",
    "#means are affected by outliers\n",
    "#mean tells us the average behaviour of the PL, ie Central Tendency\n",
    "#refer written notes\n",
    "\n",
    "print(\"\\nStd-dev:\");\n",
    "print(np.std(iris_setosa[\"PetalLengthCm\"])) #small sd, therefore thinner spread\n",
    "print(np.std(iris_virginica[\"PetalLengthCm\"]))\n",
    "print(np.std(iris_versicolor[\"PetalLengthCm\"]))\n",
    "\n",
    "#Outliers can affect mean and variance a lot"
   ]
  },
  {
   "cell_type": "code",
   "execution_count": null,
   "metadata": {},
   "outputs": [],
   "source": [
    "#Observations\n",
    "1. Most of the setosa flowers lie between 1.46 - 0.17 and 1.46 + 0.17, mean = 1.4\n",
    "2. Most of the virginica flowers lie between 5.5 - 0.5 and 5.5 + 0.5, mean = 5.5, ie b/w 5-6"
   ]
  }
 ]
}