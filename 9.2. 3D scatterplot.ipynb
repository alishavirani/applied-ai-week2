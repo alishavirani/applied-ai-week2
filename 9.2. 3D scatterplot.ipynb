{
 "metadata": {
  "language_info": {
   "codemirror_mode": {
    "name": "ipython",
    "version": 3
   },
   "file_extension": ".py",
   "mimetype": "text/x-python",
   "name": "python",
   "nbconvert_exporter": "python",
   "pygments_lexer": "ipython3",
   "version": 3
  },
  "orig_nbformat": 2
 },
 "nbformat": 4,
 "nbformat_minor": 2,
 "cells": [
  {
   "cell_type": "code",
   "execution_count": null,
   "metadata": {},
   "outputs": [],
   "source": [
    "#plotly is a very good 3D scaterplot library https://plotly.com/python/3d-scatter-plots/\n",
    "#Helps visualize data in 3D ie using 3 set of features (SepalLength, SepalWidth, PetalWidth)\n",
    "#instead of classifying using lines (for linearly seperable data) in 2d, we can use lines/planes to classify data into different classes\n",
    "\n",
    "#advatages: better visualization\n",
    "\n",
    "#disadvantage: difficult to convert to 2D ie on paper, requires lots of mouse movements to interpret data\n",
    "#How about 4D, 5D and nD? Humans are only equipped to view in 3D and not 4D, 5D"
   ]
  }
 ]
}