{
 "metadata": {
  "language_info": {
   "codemirror_mode": {
    "name": "ipython",
    "version": 3
   },
   "file_extension": ".py",
   "mimetype": "text/x-python",
   "name": "python",
   "nbconvert_exporter": "python",
   "pygments_lexer": "ipython3",
   "version": "3.8.5-final"
  },
  "orig_nbformat": 2,
  "kernelspec": {
   "name": "python3",
   "display_name": "Python 3",
   "language": "python"
  }
 },
 "nbformat": 4,
 "nbformat_minor": 2,
 "cells": [
  {
   "cell_type": "code",
   "execution_count": 1,
   "metadata": {},
   "outputs": [],
   "source": [
    "import pandas as pd\n",
    "import seaborn as sns\n",
    "import matplotlib.pyplot as plt\n",
    "import numpy as np\n",
    "\n",
    "iris = pd.read_csv(\"Iris.csv\")"
   ]
  },
  {
   "cell_type": "code",
   "execution_count": 2,
   "metadata": {},
   "outputs": [],
   "source": [
    "df = iris[['SepalLengthCm', 'SepalWidthCm', 'PetalLengthCm', 'PetalWidthCm','Species']]"
   ]
  },
  {
   "cell_type": "code",
   "execution_count": 3,
   "metadata": {},
   "outputs": [],
   "source": [
    "iris_setosa = iris.loc[iris[\"Species\"] == \"Iris-setosa\"] #taking all points corresponding to setosa\n",
    "iris_virginica = iris.loc[iris[\"Species\"] == \"Iris-virginica\"] #taking all points corresponding to virginica\n",
    "iris_versicolor = iris.loc[iris[\"Species\"] == \"Iris-versicolor\"] #taking all points corresponding to versicolor"
   ]
  },
  {
   "cell_type": "code",
   "execution_count": 6,
   "metadata": {},
   "outputs": [
    {
     "output_type": "stream",
     "name": "stdout",
     "text": [
      "\nMedians:\n1.5\n5.55\n4.35\n1.5\n\nQuantiles:\n[1.    1.4   1.5   1.575]\n[4.5   5.1   5.55  5.875]\n[3.   4.   4.35 4.6 ]\n\n90th Percentiles:\n1.7\n6.3100000000000005\n4.8\n\nMedian Absolute Deviation\n0.14826022185056031\n0.6671709983275211\n0.5189107764769602\n"
     ]
    }
   ],
   "source": [
    "#Median, Quantiles, Percentiles, IQR.\n",
    "#medians are similar to the mean/central tendency\n",
    "#median are not affected by outliers\n",
    "#refer written notes\n",
    "print(\"\\nMedians:\")\n",
    "print(np.median(iris_setosa[\"PetalLengthCm\"]))\n",
    "print(np.median(iris_virginica[\"PetalLengthCm\"]))\n",
    "print(np.median(iris_versicolor[\"PetalLengthCm\"]))\n",
    "\n",
    "#Median with an outlier\n",
    "#same as without outlier\n",
    "print(np.median(np.append(iris_setosa[\"PetalLengthCm\"],50)));\n",
    "\n",
    "print(\"\\nQuantiles:\")\n",
    "print(np.percentile(iris_setosa[\"PetalLengthCm\"],np.arange(0, 100, 25)))\n",
    "print(np.percentile(iris_virginica[\"PetalLengthCm\"],np.arange(0, 100, 25)))\n",
    "print(np.percentile(iris_versicolor[\"PetalLengthCm\"], np.arange(0, 100, 25)))\n",
    "\n",
    "print(\"\\n90th Percentiles:\")\n",
    "print(np.percentile(iris_setosa[\"PetalLengthCm\"],90))\n",
    "print(np.percentile(iris_virginica[\"PetalLengthCm\"],90))\n",
    "print(np.percentile(iris_versicolor[\"PetalLengthCm\"], 90))\n",
    "\n",
    "#refer notes \n",
    "from statsmodels import robust\n",
    "print (\"\\nMedian Absolute Deviation\")\n",
    "print(robust.mad(iris_setosa[\"PetalLengthCm\"]))\n",
    "print(robust.mad(iris_virginica[\"PetalLengthCm\"]))\n",
    "print(robust.mad(iris_versicolor[\"PetalLengthCm\"]))"
   ]
  },
  {
   "cell_type": "code",
   "execution_count": null,
   "metadata": {},
   "outputs": [],
   "source": []
  }
 ]
}