{
 "metadata": {
  "language_info": {
   "codemirror_mode": {
    "name": "ipython",
    "version": 3
   },
   "file_extension": ".py",
   "mimetype": "text/x-python",
   "name": "python",
   "nbconvert_exporter": "python",
   "pygments_lexer": "ipython3",
   "version": 3
  },
  "orig_nbformat": 2
 },
 "nbformat": 4,
 "nbformat_minor": 2,
 "cells": [
  {
   "cell_type": "code",
   "execution_count": null,
   "metadata": {},
   "outputs": [],
   "source": [
    "Refer written notes for 10.1-10.11\n",
    "For video missing in 10.5 refer https://www.youtube.com/watch?v=3qzWeokRYTA&list=PLupD_xFct8mEYg5q8itrFDuDaWKDtjSj_&index=5"
   ]
  }
 ]
}